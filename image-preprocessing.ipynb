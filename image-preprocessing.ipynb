{
 "cells": [
  {
   "cell_type": "code",
   "execution_count": 1,
   "id": "f27ed508",
   "metadata": {},
   "outputs": [],
   "source": [
    "import glob\n",
    "import random\n",
    "import numpy as np\n",
    "import pandas as pd\n",
    "import matplotlib.pyplot as plt\n",
    "import cv2\n",
    "from tensorflow import keras"
   ]
  },
  {
   "cell_type": "code",
   "execution_count": 2,
   "id": "8eaa041a",
   "metadata": {},
   "outputs": [],
   "source": [
    "def imread(path):\n",
    "    return cv2.cvtColor(cv2.imread(path, cv2.IMREAD_COLOR), cv2.COLOR_BGR2RGB)"
   ]
  },
  {
   "cell_type": "code",
   "execution_count": 3,
   "id": "bd699959",
   "metadata": {},
   "outputs": [
    {
     "data": {
      "text/plain": [
       "18000"
      ]
     },
     "execution_count": 3,
     "metadata": {},
     "output_type": "execute_result"
    }
   ],
   "source": [
    "paths = glob.glob('images/train/*/*.png')\n",
    "len(paths)"
   ]
  },
  {
   "cell_type": "code",
   "execution_count": 5,
   "id": "ef342ea9",
   "metadata": {},
   "outputs": [
    {
     "name": "stdout",
     "output_type": "stream",
     "text": [
      "Found 67 images belonging to 6 classes.\n"
     ]
    }
   ],
   "source": [
    "data_dir = 'manual'\n",
    "datagen = keras.preprocessing.image.ImageDataGenerator(\n",
    "    rotation_range=30,\n",
    "    horizontal_flip=True,\n",
    "    zoom_range=0.2,\n",
    ")\n",
    "flow_params = {\n",
    "    'class_mode': 'sparse',\n",
    "    'color_mode': 'grayscale',\n",
    "    'target_size': (128, 128),\n",
    "#     'batch_size': batch_size,\n",
    "}\n",
    "test_it = datagen.flow_from_directory(data_dir, **flow_params)"
   ]
  },
  {
   "cell_type": "code",
   "execution_count": 6,
   "id": "b03b2d39",
   "metadata": {},
   "outputs": [
    {
     "data": {
      "image/png": "[encoded data removed]",
      "text/plain": [
       "<Figure size 432x288 with 2 Axes>"
      ]
     },
     "metadata": {
      "needs_background": "light"
     },
     "output_type": "display_data"
    }
   ],
   "source": [
    "Xtrain, _ = test_it.next()\n",
    "_, (ax1, ax2) = plt.subplots(1, 2)\n",
    "X = Xtrain[0]\n",
    "ax1.imshow(X)\n",
    "ax2.imshow(keras.layers.AveragePooling2D(5)(Xtrain)[0])\n",
    "plt.show()"
   ]
  },
  {
   "cell_type": "code",
   "execution_count": 7,
   "id": "321bffcb",
   "metadata": {},
   "outputs": [
    {
     "name": "stdout",
     "output_type": "stream",
     "text": [
      "Model: \"sequential_1\"\n",
      "_________________________________________________________________\n",
      "Layer (type)                 Output Shape              Param #   \n",
      "=================================================================\n",
      "conv2d_2 (Conv2D)            (None, 126, 126, 32)      320       \n",
      "_________________________________________________________________\n",
      "conv2d_3 (Conv2D)            (None, 124, 124, 64)      18496     \n",
      "_________________________________________________________________\n",
      "max_pooling2d_1 (MaxPooling2 (None, 41, 41, 64)        0         \n",
      "_________________________________________________________________\n",
      "flatten_1 (Flatten)          (None, 107584)            0         \n",
      "_________________________________________________________________\n",
      "batch_normalization_1 (Batch (None, 107584)            430336    \n",
      "_________________________________________________________________\n",
      "dense_3 (Dense)              (None, 32)                3442720   \n",
      "_________________________________________________________________\n",
      "dense_4 (Dense)              (None, 32)                1056      \n",
      "_________________________________________________________________\n",
      "dense_5 (Dense)              (None, 6)                 198       \n",
      "=================================================================\n",
      "Total params: 3,893,126\n",
      "Trainable params: 3,677,958\n",
      "Non-trainable params: 215,168\n",
      "_________________________________________________________________\n"
     ]
    }
   ],
   "source": [
    "model = keras.Sequential([\n",
    "    keras.layers.Conv2D(32, 3, input_shape=(128, 128, 1)),\n",
    "#     keras.layers.MaxPooling2D(3),\n",
    "    keras.layers.Conv2D(64, 3),\n",
    "    keras.layers.MaxPooling2D(3),\n",
    "    keras.layers.Flatten(),\n",
    "    keras.layers.BatchNormalization(),\n",
    "    keras.layers.Dense(32, activation='relu'),\n",
    "    keras.layers.Dense(32, activation='relu'),\n",
    "    keras.layers.Dense(6, activation='softmax'),\n",
    "])\n",
    "model.compile(optimizer='adam', loss='sparse_categorical_crossentropy', metrics=['accuracy'])\n",
    "model.summary()"
   ]
  },
  {
   "cell_type": "code",
   "execution_count": 8,
   "id": "c1b4ffa3",
   "metadata": {},
   "outputs": [
    {
     "name": "stdout",
     "output_type": "stream",
     "text": [
      "WARNING:tensorflow:sample_weight modes were coerced from\n",
      "  ...\n",
      "    to  \n",
      "  ['...']\n",
      "WARNING:tensorflow:sample_weight modes were coerced from\n",
      "  ...\n",
      "    to  \n",
      "  ['...']\n",
      "Train for 3 steps, validate for 3 steps\n",
      "Epoch 1/100\n",
      "3/3 [==============================] - 7s 2s/step - loss: 6.9314 - accuracy: 0.1493 - val_loss: 92.7216 - val_accuracy: 0.2537\n",
      "Epoch 2/100\n",
      "3/3 [==============================] - 5s 2s/step - loss: 11.4014 - accuracy: 0.2985 - val_loss: 49.4741 - val_accuracy: 0.2239\n",
      "Epoch 3/100\n",
      "3/3 [==============================] - 5s 2s/step - loss: 6.8056 - accuracy: 0.3731 - val_loss: 65.9200 - val_accuracy: 0.2239\n",
      "Epoch 4/100\n",
      "3/3 [==============================] - 5s 2s/step - loss: 6.1174 - accuracy: 0.3881 - val_loss: 47.8673 - val_accuracy: 0.1940\n",
      "Epoch 5/100\n",
      "3/3 [==============================] - 5s 2s/step - loss: 8.2745 - accuracy: 0.3134 - val_loss: 40.2989 - val_accuracy: 0.1791\n",
      "Epoch 6/100\n",
      "3/3 [==============================] - 6s 2s/step - loss: 8.1113 - accuracy: 0.3284 - val_loss: 34.0830 - val_accuracy: 0.3881\n",
      "Epoch 7/100\n",
      "3/3 [==============================] - 6s 2s/step - loss: 9.5547 - accuracy: 0.3134 - val_loss: 29.0825 - val_accuracy: 0.2836\n",
      "Epoch 8/100\n",
      "3/3 [==============================] - 5s 2s/step - loss: 8.4312 - accuracy: 0.3284 - val_loss: 27.5437 - val_accuracy: 0.2836\n",
      "Epoch 9/100\n",
      "3/3 [==============================] - 6s 2s/step - loss: 5.8380 - accuracy: 0.4179 - val_loss: 21.7174 - val_accuracy: 0.3134\n",
      "Epoch 10/100\n",
      "3/3 [==============================] - 6s 2s/step - loss: 8.1595 - accuracy: 0.4328 - val_loss: 15.8522 - val_accuracy: 0.3134\n",
      "Epoch 11/100\n",
      "3/3 [==============================] - 5s 2s/step - loss: 8.2247 - accuracy: 0.3881 - val_loss: 18.2187 - val_accuracy: 0.2388\n",
      "Epoch 12/100\n",
      "3/3 [==============================] - 5s 2s/step - loss: 2.6847 - accuracy: 0.5373 - val_loss: 13.1901 - val_accuracy: 0.3284\n",
      "Epoch 13/100\n",
      "3/3 [==============================] - 5s 2s/step - loss: 6.3961 - accuracy: 0.4030 - val_loss: 12.4008 - val_accuracy: 0.3284\n",
      "Epoch 14/100\n",
      "3/3 [==============================] - 5s 2s/step - loss: 6.0870 - accuracy: 0.3433 - val_loss: 11.4013 - val_accuracy: 0.3881\n",
      "Epoch 15/100\n",
      "3/3 [==============================] - 4s 1s/step - loss: 4.2602 - accuracy: 0.5373 - val_loss: 22.0974 - val_accuracy: 0.4478\n",
      "Epoch 16/100\n",
      "3/3 [==============================] - 5s 2s/step - loss: 4.6201 - accuracy: 0.4627 - val_loss: 13.3377 - val_accuracy: 0.4030\n",
      "Epoch 17/100\n",
      "3/3 [==============================] - 5s 2s/step - loss: 4.3668 - accuracy: 0.4925 - val_loss: 16.6118 - val_accuracy: 0.4030\n",
      "Epoch 18/100\n",
      "3/3 [==============================] - 4s 1s/step - loss: 5.7826 - accuracy: 0.5821 - val_loss: 10.8135 - val_accuracy: 0.4328\n",
      "Epoch 19/100\n",
      "3/3 [==============================] - 5s 2s/step - loss: 5.6899 - accuracy: 0.4627 - val_loss: 10.2350 - val_accuracy: 0.4478\n",
      "Epoch 20/100\n",
      "3/3 [==============================] - 4s 1s/step - loss: 5.4209 - accuracy: 0.4328 - val_loss: 8.5509 - val_accuracy: 0.4328\n",
      "Epoch 21/100\n",
      "3/3 [==============================] - 5s 2s/step - loss: 3.6182 - accuracy: 0.5970 - val_loss: 7.5235 - val_accuracy: 0.4776\n",
      "Epoch 22/100\n",
      "3/3 [==============================] - 5s 2s/step - loss: 4.1006 - accuracy: 0.4478 - val_loss: 6.8287 - val_accuracy: 0.4478\n",
      "Epoch 23/100\n",
      "3/3 [==============================] - 5s 2s/step - loss: 6.2273 - accuracy: 0.4776 - val_loss: 13.2350 - val_accuracy: 0.4627\n",
      "Epoch 24/100\n",
      "3/3 [==============================] - 6s 2s/step - loss: 4.7796 - accuracy: 0.4925 - val_loss: 9.5459 - val_accuracy: 0.3881\n",
      "Epoch 25/100\n",
      "3/3 [==============================] - 5s 2s/step - loss: 5.9445 - accuracy: 0.4478 - val_loss: 7.5762 - val_accuracy: 0.4030\n",
      "Epoch 26/100\n",
      "3/3 [==============================] - 6s 2s/step - loss: 4.3679 - accuracy: 0.4776 - val_loss: 7.2107 - val_accuracy: 0.4179\n",
      "Epoch 27/100\n",
      "3/3 [==============================] - 6s 2s/step - loss: 6.9820 - accuracy: 0.3881 - val_loss: 8.8783 - val_accuracy: 0.4328\n",
      "Epoch 28/100\n",
      "3/3 [==============================] - 5s 2s/step - loss: 4.1116 - accuracy: 0.5224 - val_loss: 12.3658 - val_accuracy: 0.4179\n",
      "Epoch 29/100\n",
      "3/3 [==============================] - 5s 2s/step - loss: 4.5889 - accuracy: 0.4478 - val_loss: 6.7042 - val_accuracy: 0.3731\n",
      "Epoch 30/100\n",
      "3/3 [==============================] - 5s 2s/step - loss: 4.7564 - accuracy: 0.5672 - val_loss: 10.4247 - val_accuracy: 0.4627\n",
      "Epoch 31/100\n",
      "3/3 [==============================] - 5s 2s/step - loss: 3.8478 - accuracy: 0.5821 - val_loss: 6.2545 - val_accuracy: 0.4776\n",
      "Epoch 32/100\n",
      "3/3 [==============================] - 5s 2s/step - loss: 4.9552 - accuracy: 0.5224 - val_loss: 10.6512 - val_accuracy: 0.4328\n",
      "Epoch 33/100\n",
      "3/3 [==============================] - 5s 2s/step - loss: 5.0775 - accuracy: 0.5224 - val_loss: 5.9181 - val_accuracy: 0.5373\n",
      "Epoch 34/100\n",
      "3/3 [==============================] - 5s 2s/step - loss: 3.1204 - accuracy: 0.6119 - val_loss: 6.3333 - val_accuracy: 0.6119\n",
      "Epoch 35/100\n",
      "3/3 [==============================] - 4s 1s/step - loss: 4.0839 - accuracy: 0.5075 - val_loss: 7.3382 - val_accuracy: 0.5224\n",
      "Epoch 36/100\n",
      "3/3 [==============================] - 5s 2s/step - loss: 2.8494 - accuracy: 0.6866 - val_loss: 7.2685 - val_accuracy: 0.5075\n",
      "Epoch 37/100\n",
      "3/3 [==============================] - 5s 2s/step - loss: 4.0311 - accuracy: 0.5075 - val_loss: 7.5754 - val_accuracy: 0.5672\n",
      "Epoch 38/100\n",
      "3/3 [==============================] - 4s 1s/step - loss: 3.3068 - accuracy: 0.5075 - val_loss: 3.5822 - val_accuracy: 0.5672\n",
      "Epoch 39/100\n",
      "3/3 [==============================] - 5s 2s/step - loss: 3.3633 - accuracy: 0.6269 - val_loss: 9.0683 - val_accuracy: 0.5075\n",
      "Epoch 40/100\n",
      "3/3 [==============================] - 5s 2s/step - loss: 3.9216 - accuracy: 0.5522 - val_loss: 3.8414 - val_accuracy: 0.5224\n",
      "Epoch 41/100\n",
      "3/3 [==============================] - 6s 2s/step - loss: 2.4041 - accuracy: 0.6119 - val_loss: 3.7768 - val_accuracy: 0.5970\n",
      "Epoch 42/100\n",
      "3/3 [==============================] - 6s 2s/step - loss: 2.8990 - accuracy: 0.7164 - val_loss: 2.7462 - val_accuracy: 0.6119\n",
      "Epoch 43/100\n",
      "3/3 [==============================] - 7s 2s/step - loss: 2.5542 - accuracy: 0.6866 - val_loss: 2.9690 - val_accuracy: 0.6269\n",
      "Epoch 44/100\n",
      "3/3 [==============================] - 6s 2s/step - loss: 4.3440 - accuracy: 0.7015 - val_loss: 2.3544 - val_accuracy: 0.6716\n",
      "Epoch 45/100\n",
      "3/3 [==============================] - 6s 2s/step - loss: 3.8946 - accuracy: 0.7015 - val_loss: 4.5812 - val_accuracy: 0.5522\n",
      "Epoch 46/100\n",
      "3/3 [==============================] - 5s 2s/step - loss: 3.7507 - accuracy: 0.5522 - val_loss: 2.3618 - val_accuracy: 0.5970\n",
      "Epoch 47/100\n",
      "3/3 [==============================] - 5s 2s/step - loss: 2.9478 - accuracy: 0.5522 - val_loss: 5.6616 - val_accuracy: 0.4925\n",
      "Epoch 48/100\n",
      "3/3 [==============================] - 4s 1s/step - loss: 5.1828 - accuracy: 0.4776 - val_loss: 6.3693 - val_accuracy: 0.6269\n",
      "Epoch 49/100\n",
      "3/3 [==============================] - 4s 1s/step - loss: 2.3192 - accuracy: 0.6567 - val_loss: 2.4464 - val_accuracy: 0.5672\n",
      "Epoch 50/100\n",
      "3/3 [==============================] - 5s 2s/step - loss: 1.6960 - accuracy: 0.6567 - val_loss: 3.0325 - val_accuracy: 0.6716\n",
      "Epoch 51/100\n",
      "3/3 [==============================] - 4s 1s/step - loss: 2.6767 - accuracy: 0.6418 - val_loss: 4.3829 - val_accuracy: 0.6418\n",
      "Epoch 52/100\n",
      "3/3 [==============================] - 4s 1s/step - loss: 2.3471 - accuracy: 0.6418 - val_loss: 2.8650 - val_accuracy: 0.6269\n",
      "Epoch 53/100\n",
      "3/3 [==============================] - 5s 2s/step - loss: 3.1225 - accuracy: 0.5970 - val_loss: 2.9152 - val_accuracy: 0.6119\n",
      "Epoch 54/100\n",
      "3/3 [==============================] - 5s 2s/step - loss: 1.8626 - accuracy: 0.6567 - val_loss: 2.8719 - val_accuracy: 0.6567\n",
      "Epoch 55/100\n",
      "3/3 [==============================] - 4s 1s/step - loss: 2.2088 - accuracy: 0.5672 - val_loss: 8.1198 - val_accuracy: 0.4328\n",
      "Epoch 56/100\n",
      "3/3 [==============================] - 4s 1s/step - loss: 2.2634 - accuracy: 0.6866 - val_loss: 4.0352 - val_accuracy: 0.5672\n",
      "Epoch 57/100\n",
      "3/3 [==============================] - 5s 2s/step - loss: 1.8210 - accuracy: 0.6269 - val_loss: 2.9150 - val_accuracy: 0.5373\n",
      "Epoch 58/100\n"
     ]
    },
    {
     "name": "stdout",
     "output_type": "stream",
     "text": [
      "3/3 [==============================] - 4s 1s/step - loss: 1.4746 - accuracy: 0.6866 - val_loss: 3.3909 - val_accuracy: 0.5373\n",
      "Epoch 59/100\n",
      "3/3 [==============================] - 4s 1s/step - loss: 2.2148 - accuracy: 0.6418 - val_loss: 5.4509 - val_accuracy: 0.4925\n",
      "Epoch 60/100\n",
      "3/3 [==============================] - 4s 1s/step - loss: 1.8325 - accuracy: 0.5821 - val_loss: 4.7006 - val_accuracy: 0.6269\n",
      "Epoch 61/100\n",
      "3/3 [==============================] - 4s 1s/step - loss: 2.4917 - accuracy: 0.6716 - val_loss: 6.3602 - val_accuracy: 0.5821\n",
      "Epoch 62/100\n",
      "3/3 [==============================] - 4s 1s/step - loss: 3.0238 - accuracy: 0.6418 - val_loss: 2.3468 - val_accuracy: 0.6567\n",
      "Epoch 63/100\n",
      "3/3 [==============================] - 4s 1s/step - loss: 1.9218 - accuracy: 0.6567 - val_loss: 1.6083 - val_accuracy: 0.6716\n",
      "Epoch 64/100\n",
      "3/3 [==============================] - 4s 1s/step - loss: 2.4477 - accuracy: 0.5970 - val_loss: 2.2059 - val_accuracy: 0.5373\n",
      "Epoch 65/100\n",
      "3/3 [==============================] - 4s 1s/step - loss: 3.6294 - accuracy: 0.5224 - val_loss: 1.9196 - val_accuracy: 0.6716\n",
      "Epoch 66/100\n",
      "3/3 [==============================] - 4s 1s/step - loss: 3.7277 - accuracy: 0.6567 - val_loss: 1.8670 - val_accuracy: 0.6567\n",
      "Epoch 67/100\n",
      "3/3 [==============================] - 4s 1s/step - loss: 3.1165 - accuracy: 0.7015 - val_loss: 2.0021 - val_accuracy: 0.6866\n",
      "Epoch 68/100\n",
      "3/3 [==============================] - 4s 1s/step - loss: 2.5707 - accuracy: 0.7164 - val_loss: 2.3211 - val_accuracy: 0.6716\n",
      "Epoch 69/100\n",
      "3/3 [==============================] - 4s 1s/step - loss: 1.5234 - accuracy: 0.7313 - val_loss: 2.9958 - val_accuracy: 0.6269\n",
      "Epoch 70/100\n",
      "3/3 [==============================] - 4s 1s/step - loss: 1.9796 - accuracy: 0.6418 - val_loss: 2.8085 - val_accuracy: 0.6866\n",
      "Epoch 71/100\n",
      "3/3 [==============================] - 4s 1s/step - loss: 2.3432 - accuracy: 0.7463 - val_loss: 1.9875 - val_accuracy: 0.8060\n",
      "Epoch 72/100\n",
      "3/3 [==============================] - 4s 1s/step - loss: 1.4526 - accuracy: 0.7313 - val_loss: 2.4962 - val_accuracy: 0.7164\n",
      "Epoch 73/100\n",
      "3/3 [==============================] - 4s 1s/step - loss: 1.2112 - accuracy: 0.8209 - val_loss: 1.8933 - val_accuracy: 0.7015\n",
      "Epoch 74/100\n",
      "3/3 [==============================] - 4s 1s/step - loss: 4.1202 - accuracy: 0.6716 - val_loss: 4.0865 - val_accuracy: 0.6716\n",
      "Epoch 75/100\n",
      "3/3 [==============================] - 4s 1s/step - loss: 1.9285 - accuracy: 0.6716 - val_loss: 2.3339 - val_accuracy: 0.6716\n",
      "Epoch 76/100\n",
      "3/3 [==============================] - 4s 1s/step - loss: 3.0611 - accuracy: 0.7164 - val_loss: 1.7944 - val_accuracy: 0.6866\n",
      "Epoch 77/100\n",
      "3/3 [==============================] - 4s 1s/step - loss: 3.5303 - accuracy: 0.6269 - val_loss: 1.6656 - val_accuracy: 0.7164\n",
      "Epoch 78/100\n",
      "3/3 [==============================] - 4s 1s/step - loss: 1.7407 - accuracy: 0.7612 - val_loss: 2.7689 - val_accuracy: 0.7612\n",
      "Epoch 79/100\n",
      "3/3 [==============================] - 4s 1s/step - loss: 3.3230 - accuracy: 0.5672 - val_loss: 1.2449 - val_accuracy: 0.7313\n",
      "Epoch 80/100\n",
      "3/3 [==============================] - 4s 1s/step - loss: 2.2050 - accuracy: 0.7015 - val_loss: 1.2602 - val_accuracy: 0.7313\n",
      "Epoch 81/100\n",
      "3/3 [==============================] - 4s 1s/step - loss: 2.1880 - accuracy: 0.5970 - val_loss: 1.4068 - val_accuracy: 0.6269\n",
      "Epoch 82/100\n",
      "3/3 [==============================] - 4s 1s/step - loss: 1.7259 - accuracy: 0.7612 - val_loss: 2.0580 - val_accuracy: 0.7612\n",
      "Epoch 83/100\n",
      "3/3 [==============================] - 4s 1s/step - loss: 1.6665 - accuracy: 0.5970 - val_loss: 1.0930 - val_accuracy: 0.7164\n",
      "Epoch 84/100\n",
      "3/3 [==============================] - 4s 1s/step - loss: 1.3977 - accuracy: 0.7761 - val_loss: 2.5965 - val_accuracy: 0.6567\n",
      "Epoch 85/100\n",
      "3/3 [==============================] - 4s 1s/step - loss: 1.6156 - accuracy: 0.7164 - val_loss: 2.5469 - val_accuracy: 0.7164\n",
      "Epoch 86/100\n",
      "3/3 [==============================] - 4s 1s/step - loss: 3.1499 - accuracy: 0.6119 - val_loss: 2.5318 - val_accuracy: 0.6119\n",
      "Epoch 87/100\n",
      "3/3 [==============================] - 4s 1s/step - loss: 1.9383 - accuracy: 0.6866 - val_loss: 1.7433 - val_accuracy: 0.6567\n",
      "Epoch 88/100\n",
      "3/3 [==============================] - 4s 1s/step - loss: 1.5785 - accuracy: 0.7313 - val_loss: 1.7701 - val_accuracy: 0.7164\n",
      "Epoch 89/100\n",
      "3/3 [==============================] - 4s 1s/step - loss: 1.9732 - accuracy: 0.6418 - val_loss: 2.4186 - val_accuracy: 0.5970\n",
      "Epoch 90/100\n",
      "3/3 [==============================] - 5s 2s/step - loss: 2.0462 - accuracy: 0.7015 - val_loss: 1.5986 - val_accuracy: 0.6716\n",
      "Epoch 91/100\n",
      "3/3 [==============================] - 4s 1s/step - loss: 2.4824 - accuracy: 0.6567 - val_loss: 4.9651 - val_accuracy: 0.7313\n",
      "Epoch 92/100\n",
      "3/3 [==============================] - 4s 1s/step - loss: 1.6775 - accuracy: 0.7164 - val_loss: 1.4432 - val_accuracy: 0.7015\n",
      "Epoch 93/100\n",
      "3/3 [==============================] - 4s 1s/step - loss: 0.9580 - accuracy: 0.8060 - val_loss: 1.9518 - val_accuracy: 0.7463\n",
      "Epoch 94/100\n",
      "3/3 [==============================] - 4s 1s/step - loss: 1.2060 - accuracy: 0.7015 - val_loss: 2.4188 - val_accuracy: 0.6418\n",
      "Epoch 95/100\n",
      "3/3 [==============================] - 4s 1s/step - loss: 1.1120 - accuracy: 0.7313 - val_loss: 1.1296 - val_accuracy: 0.7164\n",
      "Epoch 96/100\n",
      "3/3 [==============================] - 4s 1s/step - loss: 1.1900 - accuracy: 0.8358 - val_loss: 1.8878 - val_accuracy: 0.7313\n",
      "Epoch 97/100\n",
      "3/3 [==============================] - 5s 2s/step - loss: 1.4264 - accuracy: 0.7612 - val_loss: 1.1660 - val_accuracy: 0.7612\n",
      "Epoch 98/100\n",
      "3/3 [==============================] - 4s 1s/step - loss: 1.8793 - accuracy: 0.7015 - val_loss: 1.3773 - val_accuracy: 0.7164\n",
      "Epoch 99/100\n",
      "3/3 [==============================] - 4s 1s/step - loss: 1.5556 - accuracy: 0.7313 - val_loss: 1.5295 - val_accuracy: 0.7164\n",
      "Epoch 100/100\n",
      "3/3 [==============================] - 4s 1s/step - loss: 1.4890 - accuracy: 0.7015 - val_loss: 3.1244 - val_accuracy: 0.6567\n"
     ]
    },
    {
     "data": {
      "image/png": "[encoded data removed]",
      "text/plain": [
       "<Figure size 432x288 with 1 Axes>"
      ]
     },
     "metadata": {
      "needs_background": "light"
     },
     "output_type": "display_data"
    }
   ],
   "source": [
    "history = model.fit(test_it, validation_data=test_it, epochs=100)\n",
    "df = pd.DataFrame(history.history)\n",
    "df[['loss', 'val_loss']].plot()\n",
    "plt.show()"
   ]
  },
  {
   "cell_type": "code",
   "execution_count": 23,
   "id": "f79a325e",
   "metadata": {},
   "outputs": [
    {
     "name": "stderr",
     "output_type": "stream",
     "text": [
      "2022-03-05 11:06:49.174011: W tensorflow/python/util/util.cc:319] Sets are not currently considered sequences, but this may change in the future, so consider avoiding using them.\n"
     ]
    },
    {
     "name": "stdout",
     "output_type": "stream",
     "text": [
      "WARNING:tensorflow:From /home/me/miniconda3/envs/dsml2/lib/python3.7/site-packages/tensorflow_core/python/ops/resource_variable_ops.py:1786: calling BaseResourceVariable.__init__ (from tensorflow.python.ops.resource_variable_ops) with constraint is deprecated and will be removed in a future version.\n",
      "Instructions for updating:\n",
      "If using Keras pass *_constraint arguments to layers.\n",
      "INFO:tensorflow:Assets written to: manualmodel/assets\n"
     ]
    }
   ],
   "source": [
    "model.save('manualmodel')"
   ]
  },
  {
   "cell_type": "code",
   "execution_count": null,
   "id": "47f6aeaa",
   "metadata": {},
   "outputs": [],
   "source": [
    "import keract\n",
    "activations = keract.get_activations(model, test_it, auto_compile=True)\n",
    "keract.display_activations(activations, cmap=None, save=False, directory='.', data_format='channels_last', fig_size=(24, 24), reshape_1d_layers=False)"
   ]
  }
 ],
 "metadata": {
  "kernelspec": {
   "display_name": "Python 3",
   "language": "python",
   "name": "python3"
  },
  "language_info": {
   "codemirror_mode": {
    "name": "ipython",
    "version": 3
   },
   "file_extension": ".py",
   "mimetype": "text/x-python",
   "name": "python",
   "nbconvert_exporter": "python",
   "pygments_lexer": "ipython3",
   "version": "3.7.11"
  }
 },
 "nbformat": 4,
 "nbformat_minor": 5
}
