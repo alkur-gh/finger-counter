{
 "cells": [
  {
   "cell_type": "code",
   "execution_count": 1,
   "id": "f27ed508",
   "metadata": {},
   "outputs": [],
   "source": [
    "import glob\n",
    "import random\n",
    "import numpy as np\n",
    "import pandas as pd\n",
    "import matplotlib.pyplot as plt\n",
    "import cv2\n",
    "from tensorflow import keras"
   ]
  },
  {
   "cell_type": "code",
   "execution_count": 2,
   "id": "ef342ea9",
   "metadata": {},
   "outputs": [
    {
     "name": "stdout",
     "output_type": "stream",
     "text": [
      "Found 98 images belonging to 6 classes.\n"
     ]
    }
   ],
   "source": [
    "data_dir = 'manual'\n",
    "datagen = keras.preprocessing.image.ImageDataGenerator(\n",
    "    rotation_range=30,\n",
    "    horizontal_flip=True,\n",
    "    zoom_range=0.2,\n",
    "    width_shift_range=10,\n",
    "    height_shift_range=10,\n",
    ")\n",
    "flow_params = {\n",
    "    'class_mode': 'sparse',\n",
    "    'color_mode': 'grayscale',\n",
    "    'target_size': (128, 128),\n",
    "#     'batch_size': batch_size,\n",
    "}\n",
    "test_it = datagen.flow_from_directory(data_dir, **flow_params)"
   ]
  },
  {
   "cell_type": "code",
   "execution_count": 3,
   "id": "b03b2d39",
   "metadata": {},
   "outputs": [
    {
     "name": "stderr",
     "output_type": "stream",
     "text": [
      "2022-03-06 09:13:00.463919: I tensorflow/core/platform/cpu_feature_guard.cc:142] Your CPU supports instructions that this TensorFlow binary was not compiled to use: SSE4.1 SSE4.2 AVX AVX2 FMA\n",
      "2022-03-06 09:13:00.482858: I tensorflow/core/platform/profile_utils/cpu_utils.cc:94] CPU Frequency: 1700865000 Hz\n",
      "2022-03-06 09:13:00.483411: I tensorflow/compiler/xla/service/service.cc:168] XLA service 0x55a17e2d2d70 initialized for platform Host (this does not guarantee that XLA will be used). Devices:\n",
      "2022-03-06 09:13:00.483438: I tensorflow/compiler/xla/service/service.cc:176]   StreamExecutor device (0): Host, Default Version\n",
      "2022-03-06 09:13:00.492452: I tensorflow/core/common_runtime/process_util.cc:147] Creating new thread pool with default inter op setting: 2. Tune using inter_op_parallelism_threads for best performance.\n"
     ]
    },
    {
     "data": {
      "image/png": "[encoded data removed]",
      "text/plain": [
       "<Figure size 432x288 with 2 Axes>"
      ]
     },
     "metadata": {
      "needs_background": "light"
     },
     "output_type": "display_data"
    }
   ],
   "source": [
    "Xtrain, _ = test_it.next()\n",
    "_, (ax1, ax2) = plt.subplots(1, 2)\n",
    "X = Xtrain[0]\n",
    "ax1.imshow(X)\n",
    "ax2.imshow(keras.layers.AveragePooling2D(5)(Xtrain)[0])\n",
    "plt.show()"
   ]
  },
  {
   "cell_type": "code",
   "execution_count": 13,
   "id": "321bffcb",
   "metadata": {},
   "outputs": [
    {
     "name": "stdout",
     "output_type": "stream",
     "text": [
      "Model: \"sequential_4\"\n",
      "_________________________________________________________________\n",
      "Layer (type)                 Output Shape              Param #   \n",
      "=================================================================\n",
      "conv2d_7 (Conv2D)            (None, 126, 126, 64)      640       \n",
      "_________________________________________________________________\n",
      "max_pooling2d_5 (MaxPooling2 (None, 42, 42, 64)        0         \n",
      "_________________________________________________________________\n",
      "conv2d_8 (Conv2D)            (None, 40, 40, 64)        36928     \n",
      "_________________________________________________________________\n",
      "max_pooling2d_6 (MaxPooling2 (None, 13, 13, 64)        0         \n",
      "_________________________________________________________________\n",
      "flatten_4 (Flatten)          (None, 10816)             0         \n",
      "_________________________________________________________________\n",
      "dense_11 (Dense)             (None, 256)               2769152   \n",
      "_________________________________________________________________\n",
      "dense_12 (Dense)             (None, 256)               65792     \n",
      "_________________________________________________________________\n",
      "dense_13 (Dense)             (None, 6)                 1542      \n",
      "=================================================================\n",
      "Total params: 2,874,054\n",
      "Trainable params: 2,874,054\n",
      "Non-trainable params: 0\n",
      "_________________________________________________________________\n"
     ]
    }
   ],
   "source": [
    "model = keras.Sequential([\n",
    "    keras.layers.Conv2D(64, 3, input_shape=(128, 128, 1)),\n",
    "    keras.layers.MaxPooling2D(3),\n",
    "    keras.layers.Conv2D(64, 3),\n",
    "    keras.layers.MaxPooling2D(3),\n",
    "    keras.layers.Flatten(),\n",
    "    keras.layers.Dense(256, activation='relu'),\n",
    "    keras.layers.Dense(256, activation='relu'),\n",
    "    keras.layers.Dense(6, activation='softmax'),\n",
    "])\n",
    "model.compile(optimizer='adam', loss='sparse_categorical_crossentropy', metrics=['accuracy'])\n",
    "model.summary()"
   ]
  },
  {
   "cell_type": "code",
   "execution_count": 14,
   "id": "c1b4ffa3",
   "metadata": {},
   "outputs": [
    {
     "name": "stdout",
     "output_type": "stream",
     "text": [
      "WARNING:tensorflow:sample_weight modes were coerced from\n",
      "  ...\n",
      "    to  \n",
      "  ['...']\n",
      "WARNING:tensorflow:sample_weight modes were coerced from\n",
      "  ...\n",
      "    to  \n",
      "  ['...']\n",
      "Train for 4 steps, validate for 4 steps\n",
      "Epoch 1/50\n",
      "4/4 [==============================] - 6s 1s/step - loss: 48.9760 - accuracy: 0.1531 - val_loss: 13.4934 - val_accuracy: 0.2449\n",
      "Epoch 2/50\n",
      "4/4 [==============================] - 5s 1s/step - loss: 16.0293 - accuracy: 0.2143 - val_loss: 17.4732 - val_accuracy: 0.2143\n",
      "Epoch 3/50\n",
      "4/4 [==============================] - 5s 1s/step - loss: 17.4211 - accuracy: 0.1735 - val_loss: 15.5643 - val_accuracy: 0.3469\n",
      "Epoch 4/50\n",
      "4/4 [==============================] - 6s 1s/step - loss: 10.7366 - accuracy: 0.3673 - val_loss: 10.0283 - val_accuracy: 0.3163\n",
      "Epoch 5/50\n",
      "4/4 [==============================] - 6s 1s/step - loss: 14.1955 - accuracy: 0.3367 - val_loss: 8.4015 - val_accuracy: 0.2755\n",
      "Epoch 6/50\n",
      "4/4 [==============================] - 5s 1s/step - loss: 7.3225 - accuracy: 0.3571 - val_loss: 5.8285 - val_accuracy: 0.3980\n",
      "Epoch 7/50\n",
      "4/4 [==============================] - 5s 1s/step - loss: 9.3315 - accuracy: 0.3571 - val_loss: 3.2827 - val_accuracy: 0.4592\n",
      "Epoch 8/50\n",
      "4/4 [==============================] - 5s 1s/step - loss: 3.9366 - accuracy: 0.4184 - val_loss: 4.1479 - val_accuracy: 0.3878\n",
      "Epoch 9/50\n",
      "4/4 [==============================] - 4s 1s/step - loss: 6.4338 - accuracy: 0.3469 - val_loss: 4.1786 - val_accuracy: 0.4184\n",
      "Epoch 10/50\n",
      "4/4 [==============================] - 5s 1s/step - loss: 3.5346 - accuracy: 0.4796 - val_loss: 2.9679 - val_accuracy: 0.4286\n",
      "Epoch 11/50\n",
      "4/4 [==============================] - 5s 1s/step - loss: 2.9813 - accuracy: 0.4286 - val_loss: 3.4163 - val_accuracy: 0.5204\n",
      "Epoch 12/50\n",
      "4/4 [==============================] - 5s 1s/step - loss: 3.6438 - accuracy: 0.3980 - val_loss: 2.7913 - val_accuracy: 0.4388\n",
      "Epoch 13/50\n",
      "4/4 [==============================] - 5s 1s/step - loss: 1.9360 - accuracy: 0.4694 - val_loss: 1.9566 - val_accuracy: 0.4082\n",
      "Epoch 14/50\n",
      "4/4 [==============================] - 5s 1s/step - loss: 2.4270 - accuracy: 0.4796 - val_loss: 2.3227 - val_accuracy: 0.4184\n",
      "Epoch 15/50\n",
      "4/4 [==============================] - 5s 1s/step - loss: 1.9825 - accuracy: 0.4592 - val_loss: 2.5265 - val_accuracy: 0.4592\n",
      "Epoch 16/50\n",
      "4/4 [==============================] - 5s 1s/step - loss: 2.3367 - accuracy: 0.4490 - val_loss: 2.5096 - val_accuracy: 0.4898\n",
      "Epoch 17/50\n",
      "4/4 [==============================] - 5s 1s/step - loss: 3.1563 - accuracy: 0.4796 - val_loss: 1.7889 - val_accuracy: 0.5000\n",
      "Epoch 18/50\n",
      "4/4 [==============================] - 5s 1s/step - loss: 2.3754 - accuracy: 0.4388 - val_loss: 2.9980 - val_accuracy: 0.4388\n",
      "Epoch 19/50\n",
      "4/4 [==============================] - 5s 1s/step - loss: 2.0474 - accuracy: 0.4184 - val_loss: 1.4578 - val_accuracy: 0.4898\n",
      "Epoch 20/50\n",
      "4/4 [==============================] - 5s 1s/step - loss: 1.8815 - accuracy: 0.4898 - val_loss: 1.7004 - val_accuracy: 0.5408\n",
      "Epoch 21/50\n",
      "4/4 [==============================] - 5s 1s/step - loss: 1.5119 - accuracy: 0.5510 - val_loss: 1.0019 - val_accuracy: 0.6531\n",
      "Epoch 22/50\n",
      "4/4 [==============================] - 5s 1s/step - loss: 1.8743 - accuracy: 0.5000 - val_loss: 1.5802 - val_accuracy: 0.5918\n",
      "Epoch 23/50\n",
      "4/4 [==============================] - 5s 1s/step - loss: 1.6771 - accuracy: 0.5510 - val_loss: 1.0828 - val_accuracy: 0.6122\n",
      "Epoch 24/50\n",
      "4/4 [==============================] - 5s 1s/step - loss: 2.6596 - accuracy: 0.5000 - val_loss: 2.4076 - val_accuracy: 0.4592\n",
      "Epoch 25/50\n",
      "4/4 [==============================] - 6s 1s/step - loss: 1.4547 - accuracy: 0.6122 - val_loss: 1.6745 - val_accuracy: 0.5918\n",
      "Epoch 26/50\n",
      "4/4 [==============================] - 5s 1s/step - loss: 1.5698 - accuracy: 0.5510 - val_loss: 1.6381 - val_accuracy: 0.5612\n",
      "Epoch 27/50\n",
      "4/4 [==============================] - 6s 1s/step - loss: 1.9511 - accuracy: 0.4898 - val_loss: 1.4208 - val_accuracy: 0.6020\n",
      "Epoch 28/50\n",
      "4/4 [==============================] - 5s 1s/step - loss: 1.8820 - accuracy: 0.5000 - val_loss: 1.5466 - val_accuracy: 0.5408\n",
      "Epoch 29/50\n",
      "4/4 [==============================] - 5s 1s/step - loss: 0.9682 - accuracy: 0.6531 - val_loss: 1.5443 - val_accuracy: 0.5306\n",
      "Epoch 30/50\n",
      "4/4 [==============================] - 5s 1s/step - loss: 0.9211 - accuracy: 0.6122 - val_loss: 1.1390 - val_accuracy: 0.5714\n",
      "Epoch 31/50\n",
      "4/4 [==============================] - 5s 1s/step - loss: 1.7067 - accuracy: 0.5408 - val_loss: 1.1047 - val_accuracy: 0.6327\n",
      "Epoch 32/50\n",
      "4/4 [==============================] - 5s 1s/step - loss: 1.3339 - accuracy: 0.4898 - val_loss: 1.6629 - val_accuracy: 0.6122\n",
      "Epoch 33/50\n",
      "4/4 [==============================] - 5s 1s/step - loss: 1.6112 - accuracy: 0.5102 - val_loss: 1.3148 - val_accuracy: 0.4490\n",
      "Epoch 34/50\n",
      "4/4 [==============================] - 5s 1s/step - loss: 1.4476 - accuracy: 0.6122 - val_loss: 1.1022 - val_accuracy: 0.5918\n",
      "Epoch 35/50\n",
      "4/4 [==============================] - 5s 1s/step - loss: 1.0985 - accuracy: 0.5816 - val_loss: 1.1573 - val_accuracy: 0.6531\n",
      "Epoch 36/50\n",
      "4/4 [==============================] - 5s 1s/step - loss: 1.1901 - accuracy: 0.6327 - val_loss: 0.7439 - val_accuracy: 0.6735\n",
      "Epoch 37/50\n",
      "4/4 [==============================] - 4s 1s/step - loss: 0.9286 - accuracy: 0.6224 - val_loss: 1.3159 - val_accuracy: 0.6122\n",
      "Epoch 38/50\n",
      "4/4 [==============================] - 4s 966ms/step - loss: 0.8435 - accuracy: 0.6735 - val_loss: 1.2307 - val_accuracy: 0.6429\n",
      "Epoch 39/50\n",
      "4/4 [==============================] - 4s 1s/step - loss: 1.0936 - accuracy: 0.5918 - val_loss: 0.8369 - val_accuracy: 0.7143\n",
      "Epoch 40/50\n",
      "4/4 [==============================] - 5s 1s/step - loss: 0.8588 - accuracy: 0.6939 - val_loss: 0.5121 - val_accuracy: 0.7245\n",
      "Epoch 41/50\n",
      "4/4 [==============================] - 5s 1s/step - loss: 0.5521 - accuracy: 0.7857 - val_loss: 0.7524 - val_accuracy: 0.7143\n",
      "Epoch 42/50\n",
      "4/4 [==============================] - 4s 1s/step - loss: 0.6836 - accuracy: 0.7347 - val_loss: 0.8815 - val_accuracy: 0.6735\n",
      "Epoch 43/50\n",
      "4/4 [==============================] - 4s 1s/step - loss: 0.6909 - accuracy: 0.7143 - val_loss: 0.9940 - val_accuracy: 0.5918\n",
      "Epoch 44/50\n",
      "4/4 [==============================] - 5s 1s/step - loss: 0.9345 - accuracy: 0.6531 - val_loss: 0.8107 - val_accuracy: 0.6531\n",
      "Epoch 45/50\n",
      "4/4 [==============================] - 4s 1s/step - loss: 1.0950 - accuracy: 0.6429 - val_loss: 0.8705 - val_accuracy: 0.6837\n",
      "Epoch 46/50\n",
      "4/4 [==============================] - 4s 1s/step - loss: 0.6945 - accuracy: 0.7245 - val_loss: 0.8734 - val_accuracy: 0.7041\n",
      "Epoch 47/50\n",
      "4/4 [==============================] - 4s 1s/step - loss: 0.8855 - accuracy: 0.6939 - val_loss: 0.9558 - val_accuracy: 0.6837\n",
      "Epoch 48/50\n",
      "4/4 [==============================] - 5s 1s/step - loss: 0.7935 - accuracy: 0.6939 - val_loss: 0.6725 - val_accuracy: 0.6939\n",
      "Epoch 49/50\n",
      "4/4 [==============================] - 5s 1s/step - loss: 0.7867 - accuracy: 0.7143 - val_loss: 0.7781 - val_accuracy: 0.7245\n",
      "Epoch 50/50\n",
      "4/4 [==============================] - 4s 1s/step - loss: 1.6777 - accuracy: 0.6735 - val_loss: 0.8192 - val_accuracy: 0.6939\n"
     ]
    },
    {
     "data": {
      "image/png": "[encoded data removed]",
      "text/plain": [
       "<Figure size 432x288 with 1 Axes>"
      ]
     },
     "metadata": {
      "needs_background": "light"
     },
     "output_type": "display_data"
    }
   ],
   "source": [
    "history = model.fit(test_it, validation_data=test_it, epochs=50)\n",
    "df = pd.DataFrame(history.history)\n",
    "df[['loss', 'val_loss']].plot()\n",
    "plt.show()"
   ]
  },
  {
   "cell_type": "code",
   "execution_count": 15,
   "id": "f79a325e",
   "metadata": {},
   "outputs": [
    {
     "name": "stdout",
     "output_type": "stream",
     "text": [
      "WARNING:tensorflow:From /home/me/miniconda3/envs/dsml2/lib/python3.7/site-packages/tensorflow_core/python/ops/resource_variable_ops.py:1786: calling BaseResourceVariable.__init__ (from tensorflow.python.ops.resource_variable_ops) with constraint is deprecated and will be removed in a future version.\n",
      "Instructions for updating:\n",
      "If using Keras pass *_constraint arguments to layers.\n"
     ]
    },
    {
     "name": "stderr",
     "output_type": "stream",
     "text": [
      "2022-03-06 09:29:50.030559: W tensorflow/python/util/util.cc:319] Sets are not currently considered sequences, but this may change in the future, so consider avoiding using them.\n"
     ]
    },
    {
     "name": "stdout",
     "output_type": "stream",
     "text": [
      "INFO:tensorflow:Assets written to: manualmodel70/assets\n"
     ]
    }
   ],
   "source": [
    "model.save('manualmodel70')"
   ]
  },
  {
   "cell_type": "code",
   "execution_count": null,
   "id": "47f6aeaa",
   "metadata": {},
   "outputs": [],
   "source": [
    "import keract\n",
    "activations = keract.get_activations(model, test_it, auto_compile=True)\n",
    "keract.display_activations(activations, cmap=None, save=False, directory='.', data_format='channels_last', fig_size=(24, 24), reshape_1d_layers=False)"
   ]
  }
 ],
 "metadata": {
  "kernelspec": {
   "display_name": "Python 3",
   "language": "python",
   "name": "python3"
  },
  "language_info": {
   "codemirror_mode": {
    "name": "ipython",
    "version": 3
   },
   "file_extension": ".py",
   "mimetype": "text/x-python",
   "name": "python",
   "nbconvert_exporter": "python",
   "pygments_lexer": "ipython3",
   "version": "3.7.11"
  }
 },
 "nbformat": 4,
 "nbformat_minor": 5
}
