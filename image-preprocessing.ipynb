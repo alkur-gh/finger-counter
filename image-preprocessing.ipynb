{
 "cells": [
  {
   "cell_type": "code",
   "execution_count": 14,
   "id": "f27ed508",
   "metadata": {},
   "outputs": [],
   "source": [
    "import glob\n",
    "import random\n",
    "import numpy as np\n",
    "import pandas as pd\n",
    "import matplotlib.pyplot as plt\n",
    "import cv2\n",
    "from tensorflow import keras"
   ]
  },
  {
   "cell_type": "code",
   "execution_count": 15,
   "id": "ef342ea9",
   "metadata": {},
   "outputs": [
    {
     "name": "stdout",
     "output_type": "stream",
     "text": [
      "Found 396 images belonging to 6 classes.\n"
     ]
    }
   ],
   "source": [
    "data_dir = 'manual'\n",
    "datagen = keras.preprocessing.image.ImageDataGenerator(\n",
    "    rotation_range=30,\n",
    "    horizontal_flip=True,\n",
    "    zoom_range=0.2,\n",
    "    width_shift_range=10,\n",
    "    height_shift_range=10,\n",
    ")\n",
    "flow_params = {\n",
    "    'class_mode': 'sparse',\n",
    "    'color_mode': 'grayscale',\n",
    "    'target_size': (128, 128),\n",
    "#     'batch_size': batch_size,\n",
    "}\n",
    "test_it = datagen.flow_from_directory(data_dir, **flow_params)"
   ]
  },
  {
   "cell_type": "code",
   "execution_count": 16,
   "id": "b03b2d39",
   "metadata": {},
   "outputs": [
    {
     "data": {
      "image/png": "[encoded data removed]",
      "text/plain": [
       "<Figure size 432x288 with 2 Axes>"
      ]
     },
     "metadata": {
      "needs_background": "light"
     },
     "output_type": "display_data"
    }
   ],
   "source": [
    "Xtrain, _ = test_it.next()\n",
    "_, (ax1, ax2) = plt.subplots(1, 2)\n",
    "X = Xtrain[0]\n",
    "ax1.imshow(X)\n",
    "ax2.imshow(keras.layers.AveragePooling2D(5)(Xtrain)[0])\n",
    "plt.show()"
   ]
  },
  {
   "cell_type": "code",
   "execution_count": 17,
   "id": "321bffcb",
   "metadata": {},
   "outputs": [
    {
     "name": "stdout",
     "output_type": "stream",
     "text": [
      "Model: \"sequential_2\"\n",
      "_________________________________________________________________\n",
      "Layer (type)                 Output Shape              Param #   \n",
      "=================================================================\n",
      "conv2d_4 (Conv2D)            (None, 126, 126, 64)      640       \n",
      "_________________________________________________________________\n",
      "max_pooling2d_4 (MaxPooling2 (None, 42, 42, 64)        0         \n",
      "_________________________________________________________________\n",
      "conv2d_5 (Conv2D)            (None, 40, 40, 64)        36928     \n",
      "_________________________________________________________________\n",
      "max_pooling2d_5 (MaxPooling2 (None, 13, 13, 64)        0         \n",
      "_________________________________________________________________\n",
      "flatten_2 (Flatten)          (None, 10816)             0         \n",
      "_________________________________________________________________\n",
      "dense_6 (Dense)              (None, 256)               2769152   \n",
      "_________________________________________________________________\n",
      "dense_7 (Dense)              (None, 256)               65792     \n",
      "_________________________________________________________________\n",
      "dense_8 (Dense)              (None, 6)                 1542      \n",
      "=================================================================\n",
      "Total params: 2,874,054\n",
      "Trainable params: 2,874,054\n",
      "Non-trainable params: 0\n",
      "_________________________________________________________________\n"
     ]
    }
   ],
   "source": [
    "model = keras.Sequential([\n",
    "    keras.layers.Conv2D(64, 3, input_shape=(128, 128, 1), activation='relu'),\n",
    "    keras.layers.MaxPooling2D(3),\n",
    "    keras.layers.Conv2D(64, 3, activation='relu'),\n",
    "    keras.layers.MaxPooling2D(3),\n",
    "    keras.layers.Flatten(),\n",
    "    keras.layers.Dense(256, activation='relu'),\n",
    "    keras.layers.Dense(256, activation='relu'),\n",
    "    keras.layers.Dense(6, activation='softmax'),\n",
    "])\n",
    "model.compile(optimizer='adam', loss='sparse_categorical_crossentropy', metrics=['accuracy'])\n",
    "model.summary()"
   ]
  },
  {
   "cell_type": "code",
   "execution_count": 18,
   "id": "c1b4ffa3",
   "metadata": {},
   "outputs": [
    {
     "name": "stdout",
     "output_type": "stream",
     "text": [
      "WARNING:tensorflow:sample_weight modes were coerced from\n",
      "  ...\n",
      "    to  \n",
      "  ['...']\n",
      "WARNING:tensorflow:sample_weight modes were coerced from\n",
      "  ...\n",
      "    to  \n",
      "  ['...']\n",
      "Train for 13 steps, validate for 13 steps\n",
      "Epoch 1/50\n",
      "13/13 [==============================] - 14s 1s/step - loss: 19.6159 - accuracy: 0.1793 - val_loss: 1.9685 - val_accuracy: 0.1869\n",
      "Epoch 2/50\n",
      "13/13 [==============================] - 13s 1s/step - loss: 1.8598 - accuracy: 0.1970 - val_loss: 1.7947 - val_accuracy: 0.1843\n",
      "Epoch 3/50\n",
      "13/13 [==============================] - 14s 1s/step - loss: 1.7668 - accuracy: 0.2298 - val_loss: 1.7690 - val_accuracy: 0.2273\n",
      "Epoch 4/50\n",
      "13/13 [==============================] - 13s 1s/step - loss: 1.7730 - accuracy: 0.2096 - val_loss: 1.7431 - val_accuracy: 0.2677\n",
      "Epoch 5/50\n",
      "13/13 [==============================] - 14s 1s/step - loss: 1.7523 - accuracy: 0.2576 - val_loss: 1.7240 - val_accuracy: 0.2828\n",
      "Epoch 6/50\n",
      "13/13 [==============================] - 13s 1s/step - loss: 1.6951 - accuracy: 0.2854 - val_loss: 1.6443 - val_accuracy: 0.3409\n",
      "Epoch 7/50\n",
      "13/13 [==============================] - 14s 1s/step - loss: 1.6501 - accuracy: 0.3258 - val_loss: 1.5852 - val_accuracy: 0.3308\n",
      "Epoch 8/50\n",
      "13/13 [==============================] - 13s 1s/step - loss: 1.5642 - accuracy: 0.3662 - val_loss: 1.5418 - val_accuracy: 0.3384\n",
      "Epoch 9/50\n",
      "13/13 [==============================] - 13s 1s/step - loss: 1.5027 - accuracy: 0.3965 - val_loss: 1.4755 - val_accuracy: 0.4141\n",
      "Epoch 10/50\n",
      "13/13 [==============================] - 13s 1s/step - loss: 1.4869 - accuracy: 0.3939 - val_loss: 1.4789 - val_accuracy: 0.3737\n",
      "Epoch 11/50\n",
      "13/13 [==============================] - 13s 1s/step - loss: 1.4099 - accuracy: 0.4394 - val_loss: 1.3770 - val_accuracy: 0.4520\n",
      "Epoch 12/50\n",
      "13/13 [==============================] - 14s 1s/step - loss: 1.4225 - accuracy: 0.4268 - val_loss: 1.3288 - val_accuracy: 0.4672\n",
      "Epoch 13/50\n",
      "13/13 [==============================] - 13s 1s/step - loss: 1.2608 - accuracy: 0.4975 - val_loss: 1.2601 - val_accuracy: 0.4975\n",
      "Epoch 14/50\n",
      "13/13 [==============================] - 13s 1s/step - loss: 1.2351 - accuracy: 0.5253 - val_loss: 1.0744 - val_accuracy: 0.5884\n",
      "Epoch 15/50\n",
      "13/13 [==============================] - 13s 1s/step - loss: 1.1983 - accuracy: 0.5455 - val_loss: 1.1459 - val_accuracy: 0.5783\n",
      "Epoch 16/50\n",
      "13/13 [==============================] - 13s 1s/step - loss: 1.1048 - accuracy: 0.5960 - val_loss: 0.9687 - val_accuracy: 0.6465\n",
      "Epoch 17/50\n",
      "13/13 [==============================] - 13s 1s/step - loss: 1.1348 - accuracy: 0.5909 - val_loss: 1.0198 - val_accuracy: 0.5758\n",
      "Epoch 18/50\n",
      "13/13 [==============================] - 13s 1s/step - loss: 0.9996 - accuracy: 0.5657 - val_loss: 1.0840 - val_accuracy: 0.5985\n",
      "Epoch 19/50\n",
      "13/13 [==============================] - 14s 1s/step - loss: 1.1040 - accuracy: 0.6010 - val_loss: 1.0320 - val_accuracy: 0.5909\n",
      "Epoch 20/50\n",
      "13/13 [==============================] - 13s 1s/step - loss: 0.9381 - accuracy: 0.6389 - val_loss: 0.8719 - val_accuracy: 0.6641\n",
      "Epoch 21/50\n",
      "13/13 [==============================] - 13s 1s/step - loss: 0.9288 - accuracy: 0.6389 - val_loss: 0.8046 - val_accuracy: 0.7146\n",
      "Epoch 22/50\n",
      "13/13 [==============================] - 14s 1s/step - loss: 0.9596 - accuracy: 0.6313 - val_loss: 0.8347 - val_accuracy: 0.6717\n",
      "Epoch 23/50\n",
      "13/13 [==============================] - 14s 1s/step - loss: 0.8754 - accuracy: 0.6667 - val_loss: 1.0132 - val_accuracy: 0.6237\n",
      "Epoch 24/50\n",
      "13/13 [==============================] - 14s 1s/step - loss: 0.8923 - accuracy: 0.6439 - val_loss: 0.8069 - val_accuracy: 0.6995\n",
      "Epoch 25/50\n",
      "13/13 [==============================] - 13s 1s/step - loss: 0.8560 - accuracy: 0.6566 - val_loss: 0.8998 - val_accuracy: 0.6692\n",
      "Epoch 26/50\n",
      "13/13 [==============================] - 14s 1s/step - loss: 0.8531 - accuracy: 0.6667 - val_loss: 0.7639 - val_accuracy: 0.7247\n",
      "Epoch 27/50\n",
      "13/13 [==============================] - 13s 1s/step - loss: 0.7114 - accuracy: 0.7348 - val_loss: 0.6651 - val_accuracy: 0.7424\n",
      "Epoch 28/50\n",
      "13/13 [==============================] - 15s 1s/step - loss: 0.7146 - accuracy: 0.7323 - val_loss: 0.7227 - val_accuracy: 0.7146\n",
      "Epoch 29/50\n",
      "13/13 [==============================] - 14s 1s/step - loss: 0.7215 - accuracy: 0.7121 - val_loss: 0.7526 - val_accuracy: 0.7096\n",
      "Epoch 30/50\n",
      "13/13 [==============================] - 14s 1s/step - loss: 0.7323 - accuracy: 0.7071 - val_loss: 0.6788 - val_accuracy: 0.6944\n",
      "Epoch 31/50\n",
      "13/13 [==============================] - 14s 1s/step - loss: 0.7639 - accuracy: 0.7071 - val_loss: 0.7345 - val_accuracy: 0.7500\n",
      "Epoch 32/50\n",
      "13/13 [==============================] - 13s 1s/step - loss: 0.7286 - accuracy: 0.7020 - val_loss: 0.6920 - val_accuracy: 0.7475\n",
      "Epoch 33/50\n",
      "13/13 [==============================] - 13s 1s/step - loss: 0.7329 - accuracy: 0.7071 - val_loss: 0.6106 - val_accuracy: 0.7677\n",
      "Epoch 34/50\n",
      "13/13 [==============================] - 13s 1s/step - loss: 0.6155 - accuracy: 0.7854 - val_loss: 0.6454 - val_accuracy: 0.7677\n",
      "Epoch 35/50\n",
      "13/13 [==============================] - 13s 1s/step - loss: 0.5825 - accuracy: 0.7652 - val_loss: 0.6021 - val_accuracy: 0.7601\n",
      "Epoch 36/50\n",
      "13/13 [==============================] - 14s 1s/step - loss: 0.5367 - accuracy: 0.7854 - val_loss: 0.5715 - val_accuracy: 0.7904\n",
      "Epoch 37/50\n",
      "13/13 [==============================] - 13s 1s/step - loss: 0.5968 - accuracy: 0.7753 - val_loss: 0.6939 - val_accuracy: 0.7323\n",
      "Epoch 38/50\n",
      "13/13 [==============================] - 13s 1s/step - loss: 0.6372 - accuracy: 0.7576 - val_loss: 0.8511 - val_accuracy: 0.6894\n",
      "Epoch 39/50\n",
      "13/13 [==============================] - 13s 1s/step - loss: 0.7206 - accuracy: 0.7323 - val_loss: 0.6903 - val_accuracy: 0.7374\n",
      "Epoch 40/50\n",
      "13/13 [==============================] - 13s 1s/step - loss: 0.5869 - accuracy: 0.7879 - val_loss: 0.5613 - val_accuracy: 0.7929\n",
      "Epoch 41/50\n",
      "13/13 [==============================] - 13s 1s/step - loss: 0.5006 - accuracy: 0.8030 - val_loss: 0.4627 - val_accuracy: 0.8258\n",
      "Epoch 42/50\n",
      "13/13 [==============================] - 13s 1s/step - loss: 0.5128 - accuracy: 0.8005 - val_loss: 0.5060 - val_accuracy: 0.8460\n",
      "Epoch 43/50\n",
      "13/13 [==============================] - 13s 1s/step - loss: 0.5685 - accuracy: 0.7778 - val_loss: 0.4849 - val_accuracy: 0.8131\n",
      "Epoch 44/50\n",
      "13/13 [==============================] - 14s 1s/step - loss: 0.5569 - accuracy: 0.7854 - val_loss: 0.4516 - val_accuracy: 0.8510\n",
      "Epoch 45/50\n",
      "13/13 [==============================] - 13s 1s/step - loss: 0.5353 - accuracy: 0.7980 - val_loss: 0.4517 - val_accuracy: 0.8308\n",
      "Epoch 46/50\n",
      "13/13 [==============================] - 13s 1s/step - loss: 0.5293 - accuracy: 0.8182 - val_loss: 0.3968 - val_accuracy: 0.8460\n",
      "Epoch 47/50\n",
      "13/13 [==============================] - 13s 1s/step - loss: 0.5747 - accuracy: 0.8005 - val_loss: 0.5373 - val_accuracy: 0.7955\n",
      "Epoch 48/50\n",
      "13/13 [==============================] - 14s 1s/step - loss: 0.4844 - accuracy: 0.8131 - val_loss: 0.4996 - val_accuracy: 0.8131\n",
      "Epoch 49/50\n",
      "13/13 [==============================] - 14s 1s/step - loss: 0.4526 - accuracy: 0.8384 - val_loss: 0.4361 - val_accuracy: 0.8409\n",
      "Epoch 50/50\n",
      "13/13 [==============================] - 13s 1s/step - loss: 0.4712 - accuracy: 0.8434 - val_loss: 0.3845 - val_accuracy: 0.8561\n"
     ]
    },
    {
     "data": {
      "image/png": "[encoded data removed]",
      "text/plain": [
       "<Figure size 432x288 with 1 Axes>"
      ]
     },
     "metadata": {
      "needs_background": "light"
     },
     "output_type": "display_data"
    }
   ],
   "source": [
    "history = model.fit(test_it, validation_data=test_it, epochs=50)\n",
    "df = pd.DataFrame(history.history)\n",
    "df[['loss', 'val_loss']].plot()\n",
    "plt.show()"
   ]
  },
  {
   "cell_type": "code",
   "execution_count": 19,
   "id": "f79a325e",
   "metadata": {},
   "outputs": [
    {
     "name": "stdout",
     "output_type": "stream",
     "text": [
      "INFO:tensorflow:Assets written to: manualmodel85/assets\n"
     ]
    }
   ],
   "source": [
    "model.save('manualmodel85')"
   ]
  },
  {
   "cell_type": "code",
   "execution_count": null,
   "id": "47f6aeaa",
   "metadata": {},
   "outputs": [],
   "source": [
    "import keract\n",
    "activations = keract.get_activations(model, test_it, auto_compile=True)\n",
    "keract.display_activations(activations, cmap=None, save=False, directory='.', data_format='channels_last', fig_size=(24, 24), reshape_1d_layers=False)"
   ]
  }
 ],
 "metadata": {
  "kernelspec": {
   "display_name": "Python 3",
   "language": "python",
   "name": "python3"
  },
  "language_info": {
   "codemirror_mode": {
    "name": "ipython",
    "version": 3
   },
   "file_extension": ".py",
   "mimetype": "text/x-python",
   "name": "python",
   "nbconvert_exporter": "python",
   "pygments_lexer": "ipython3",
   "version": "3.7.11"
  }
 },
 "nbformat": 4,
 "nbformat_minor": 5
}
